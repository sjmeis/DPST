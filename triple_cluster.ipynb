{
 "cells": [
  {
   "cell_type": "code",
   "execution_count": null,
   "id": "69c3c47a-b792-46f2-96ea-d58720e3cf9a",
   "metadata": {
    "scrolled": true
   },
   "outputs": [],
   "source": [
    "import sklearn\n",
    "\n",
    "import weaviate\n",
    "from weaviate.classes.config import Configure\n",
    "import weaviate.classes.config as wc\n",
    "import weaviate.classes.query as wq\n",
    "from weaviate.classes.query import MetadataQuery, Filter\n",
    "import numpy as np\n",
    "from tqdm.auto import tqdm\n",
    "import faiss\n",
    "import torch\n",
    "from sklearn.cluster import MiniBatchKMeans\n",
    "import json\n",
    "from collections import defaultdict, Counter"
   ]
  },
  {
   "cell_type": "code",
   "execution_count": null,
   "id": "66737db5-6c56-4976-bf99-278055c6b1d0",
   "metadata": {},
   "outputs": [],
   "source": [
    "client = weaviate.connect_to_local()"
   ]
  },
  {
   "cell_type": "code",
   "execution_count": null,
   "id": "3e338d9d-2f6d-4d3a-afbe-d5de76b25815",
   "metadata": {},
   "outputs": [],
   "source": [
    "triples = client.collections.get(\"Triples\")"
   ]
  },
  {
   "cell_type": "code",
   "execution_count": null,
   "id": "f21d3610-48e6-4024-a24d-893b28594419",
   "metadata": {},
   "outputs": [],
   "source": [
    "count = 0\n",
    "all_vectors = []\n",
    "all_texts = []\n",
    "all_ids = []\n",
    "for t in tqdm(triples.iterator(include_vector=True)):\n",
    "    count += 1\n",
    "    all_ids.append(t.uuid)\n",
    "    all_texts.append(t.properties[\"text\"])\n",
    "    all_vectors.append(t.vector[\"default\"])"
   ]
  },
  {
   "cell_type": "code",
   "execution_count": null,
   "id": "8f1873bf-706a-4430-822d-77a0ef756f79",
   "metadata": {},
   "outputs": [],
   "source": [
    "x = np.array(all_vectors)"
   ]
  },
  {
   "cell_type": "code",
   "execution_count": null,
   "id": "6a66cea5-dc5d-428c-8132-c55348592a7c",
   "metadata": {},
   "outputs": [],
   "source": [
    "# 50k\n",
    "kmeans2 = MiniBatchKMeans(n_clusters=50000,\n",
    "                         random_state=42,\n",
    "                         batch_size=256*32,\n",
    "                         max_iter=5,\n",
    "                         n_init=\"auto\").fit(x)"
   ]
  },
  {
   "cell_type": "code",
   "execution_count": null,
   "id": "9476087e-00c5-4a85-9941-de11e8eac55a",
   "metadata": {},
   "outputs": [],
   "source": [
    "# 100k\n",
    "kmeans3 = MiniBatchKMeans(n_clusters=100000,\n",
    "                         random_state=42,\n",
    "                         batch_size=256*32,\n",
    "                         max_iter=10,\n",
    "                         n_init=\"auto\").fit(x)"
   ]
  },
  {
   "cell_type": "code",
   "execution_count": null,
   "id": "98aa50cc-b085-4bfe-872a-1bf667255c77",
   "metadata": {},
   "outputs": [],
   "source": [
    "# 200k\n",
    "kmeans4 = MiniBatchKMeans(n_clusters=200000,\n",
    "                         random_state=42,\n",
    "                         batch_size=256*32,\n",
    "                         max_iter=10,\n",
    "                         n_init=\"auto\").fit(x)"
   ]
  },
  {
   "cell_type": "code",
   "execution_count": null,
   "id": "f4ed65c6-c38f-40c5-8ddc-16f367e37069",
   "metadata": {},
   "outputs": [],
   "source": [
    "with open(\"data/clusters/50k.json\", 'w') as out:\n",
    "    json.dump(kmeans2.cluster_centers_.tolist(), out, indent=1)"
   ]
  },
  {
   "cell_type": "code",
   "execution_count": null,
   "id": "7b2b14c4-be05-42fa-9efc-19821e330a45",
   "metadata": {},
   "outputs": [],
   "source": [
    "with open(\"data/clusters/100k.json\", 'w') as out:\n",
    "    json.dump(kmeans3.cluster_centers_.tolist(), out, indent=1)"
   ]
  },
  {
   "cell_type": "code",
   "execution_count": null,
   "id": "c8093e29-7a04-49a7-96e5-50f4a28b3fd3",
   "metadata": {},
   "outputs": [],
   "source": [
    "with open(\"data/clusters/200k.json\", 'w') as out:\n",
    "    json.dump(kmeans4.cluster_centers_.tolist(), out, indent=1)"
   ]
  },
  {
   "cell_type": "code",
   "execution_count": null,
   "id": "5437610a-af94-407d-82c7-07d042c0af54",
   "metadata": {},
   "outputs": [],
   "source": [
    "c = Counter(kmeans2.labels_)\n",
    "labels = [c[k] for k in sorted(c)]\n",
    "with open(\"data/clusters/50k_counts.json\", 'w') as out:\n",
    "    json.dump(labels, out, indent=1)"
   ]
  },
  {
   "cell_type": "code",
   "execution_count": null,
   "id": "9358300b-e0e7-48bc-9cfd-3831f97623ca",
   "metadata": {},
   "outputs": [],
   "source": [
    "c = Counter()\n",
    "for i in range(100000):\n",
    "    c[i] = 0\n",
    "c.update(kmeans3.labels_)\n",
    "labels = [c[k] for k in sorted(c)]\n",
    "with open(\"data/clusters/clusters/clusters/clusters/100k_counts.json\", 'w') as out:\n",
    "    json.dump(labels, out, indent=1)"
   ]
  },
  {
   "cell_type": "code",
   "execution_count": null,
   "id": "9f3ef435-128b-418c-acd5-ed744e8954fe",
   "metadata": {},
   "outputs": [],
   "source": [
    "c = Counter()\n",
    "for i in range(200000):\n",
    "    c[i] = 0\n",
    "c.update(kmeans4.labels_)\n",
    "labels = [c[k] for k in sorted(c)]\n",
    "with open(\"data/clusters/200k_counts.json\", 'w') as out:\n",
    "    json.dump(labels, out, indent=1)"
   ]
  },
  {
   "cell_type": "code",
   "execution_count": null,
   "id": "f7ea46fa-eb55-4e85-92bc-5fb2e543c0d0",
   "metadata": {},
   "outputs": [],
   "source": [
    "i = 0\n",
    "for id, b, c, d in tqdm(zip(all_ids, kmeans2.labels_, kmeans3.labels_, kmeans4.labels_), total=len(all_ids)):    \n",
    "    props = {\n",
    "        \"fiftyk\": int(b),\n",
    "        \"hundredk\": int(c),\n",
    "        \"twohundredk\": int(d)\n",
    "    }\n",
    "    triples.data.update(uuid=id, properties=props)\n",
    "    i += 1"
   ]
  },
  {
   "cell_type": "code",
   "execution_count": null,
   "id": "680d168e-05dc-4fee-adc5-e473c8d0deb6",
   "metadata": {},
   "outputs": [],
   "source": [
    "client.close()"
   ]
  }
 ],
 "metadata": {
  "kernelspec": {
   "display_name": "Python 3 (ipykernel)",
   "language": "python",
   "name": "python3"
  },
  "language_info": {
   "codemirror_mode": {
    "name": "ipython",
    "version": 3
   },
   "file_extension": ".py",
   "mimetype": "text/x-python",
   "name": "python",
   "nbconvert_exporter": "python",
   "pygments_lexer": "ipython3",
   "version": "3.10.12"
  }
 },
 "nbformat": 4,
 "nbformat_minor": 5
}
